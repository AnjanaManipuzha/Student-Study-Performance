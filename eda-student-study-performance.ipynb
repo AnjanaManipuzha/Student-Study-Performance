{
 "cells": [
  {
   "cell_type": "code",
   "execution_count": 1,
   "id": "f971d206",
   "metadata": {
    "_cell_guid": "b1076dfc-b9ad-4769-8c92-a6c4dae69d19",
    "_uuid": "8f2839f25d086af736a60e9eeb907d3b93b6e0e5",
    "execution": {
     "iopub.execute_input": "2022-07-02T02:22:30.532532Z",
     "iopub.status.busy": "2022-07-02T02:22:30.531339Z",
     "iopub.status.idle": "2022-07-02T02:22:30.560812Z",
     "shell.execute_reply": "2022-07-02T02:22:30.559675Z"
    },
    "papermill": {
     "duration": 0.043952,
     "end_time": "2022-07-02T02:22:30.563759",
     "exception": false,
     "start_time": "2022-07-02T02:22:30.519807",
     "status": "completed"
    },
    "tags": []
   },
   "outputs": [
    {
     "name": "stdout",
     "output_type": "stream",
     "text": [
      "/kaggle/input/student-study-performance/Student Study data.csv\n"
     ]
    }
   ],
   "source": [
    "# This Python 3 environment comes with many helpful analytics libraries installed\n",
    "# It is defined by the kaggle/python Docker image: https://github.com/kaggle/docker-python\n",
    "# For example, here's several helpful packages to load\n",
    "\n",
    "import numpy as np # linear algebra\n",
    "import pandas as pd # data processing, CSV file I/O (e.g. pd.read_csv)\n",
    "\n",
    "# Input data files are available in the read-only \"../input/\" directory\n",
    "# For example, running this (by clicking run or pressing Shift+Enter) will list all files under the input directory\n",
    "\n",
    "import os\n",
    "for dirname, _, filenames in os.walk('/kaggle/input'):\n",
    "    for filename in filenames:\n",
    "        print(os.path.join(dirname, filename))\n",
    "\n",
    "# You can write up to 20GB to the current directory (/kaggle/working/) that gets preserved as output when you create a version using \"Save & Run All\" \n",
    "# You can also write temporary files to /kaggle/temp/, but they won't be saved outside of the current session"
   ]
  },
  {
   "cell_type": "code",
   "execution_count": 2,
   "id": "7957e05b",
   "metadata": {
    "execution": {
     "iopub.execute_input": "2022-07-02T02:22:30.582645Z",
     "iopub.status.busy": "2022-07-02T02:22:30.582239Z",
     "iopub.status.idle": "2022-07-02T02:22:30.599936Z",
     "shell.execute_reply": "2022-07-02T02:22:30.598832Z"
    },
    "papermill": {
     "duration": 0.030147,
     "end_time": "2022-07-02T02:22:30.602463",
     "exception": false,
     "start_time": "2022-07-02T02:22:30.572316",
     "status": "completed"
    },
    "tags": []
   },
   "outputs": [],
   "source": [
    "df = pd.read_csv('/kaggle/input/student-study-performance/Student Study data.csv')"
   ]
  },
  {
   "cell_type": "code",
   "execution_count": 3,
   "id": "34278c98",
   "metadata": {
    "execution": {
     "iopub.execute_input": "2022-07-02T02:22:30.621369Z",
     "iopub.status.busy": "2022-07-02T02:22:30.620998Z",
     "iopub.status.idle": "2022-07-02T02:22:30.645540Z",
     "shell.execute_reply": "2022-07-02T02:22:30.644755Z"
    },
    "papermill": {
     "duration": 0.036604,
     "end_time": "2022-07-02T02:22:30.647781",
     "exception": false,
     "start_time": "2022-07-02T02:22:30.611177",
     "status": "completed"
    },
    "tags": []
   },
   "outputs": [
    {
     "data": {
      "text/html": [
       "<div>\n",
       "<style scoped>\n",
       "    .dataframe tbody tr th:only-of-type {\n",
       "        vertical-align: middle;\n",
       "    }\n",
       "\n",
       "    .dataframe tbody tr th {\n",
       "        vertical-align: top;\n",
       "    }\n",
       "\n",
       "    .dataframe thead th {\n",
       "        text-align: right;\n",
       "    }\n",
       "</style>\n",
       "<table border=\"1\" class=\"dataframe\">\n",
       "  <thead>\n",
       "    <tr style=\"text-align: right;\">\n",
       "      <th></th>\n",
       "      <th>Name</th>\n",
       "      <th>Date</th>\n",
       "      <th>Day</th>\n",
       "      <th>Marital Status</th>\n",
       "      <th>Your gender?</th>\n",
       "      <th>study hour</th>\n",
       "      <th>your sleep hour?</th>\n",
       "      <th>weekend</th>\n",
       "      <th>what is your age?</th>\n",
       "      <th>what is your cgpa</th>\n",
       "    </tr>\n",
       "  </thead>\n",
       "  <tbody>\n",
       "    <tr>\n",
       "      <th>0</th>\n",
       "      <td>Karim</td>\n",
       "      <td>28/6/2022</td>\n",
       "      <td>Sunday</td>\n",
       "      <td>1.0</td>\n",
       "      <td>1</td>\n",
       "      <td>4.0</td>\n",
       "      <td>6</td>\n",
       "      <td>0</td>\n",
       "      <td>23</td>\n",
       "      <td>3.00 - 3.49</td>\n",
       "    </tr>\n",
       "    <tr>\n",
       "      <th>1</th>\n",
       "      <td>Karim</td>\n",
       "      <td>29/6/2022</td>\n",
       "      <td>Monday</td>\n",
       "      <td>1.0</td>\n",
       "      <td>1</td>\n",
       "      <td>3.0</td>\n",
       "      <td>6</td>\n",
       "      <td>0</td>\n",
       "      <td>23</td>\n",
       "      <td>3.00 - 3.49</td>\n",
       "    </tr>\n",
       "    <tr>\n",
       "      <th>2</th>\n",
       "      <td>Karim</td>\n",
       "      <td>30/6/2022</td>\n",
       "      <td>Tuesday</td>\n",
       "      <td>1.0</td>\n",
       "      <td>1</td>\n",
       "      <td>3.0</td>\n",
       "      <td>7</td>\n",
       "      <td>0</td>\n",
       "      <td>23</td>\n",
       "      <td>3.00 - 3.49</td>\n",
       "    </tr>\n",
       "    <tr>\n",
       "      <th>3</th>\n",
       "      <td>Karim</td>\n",
       "      <td>1/7/2022</td>\n",
       "      <td>Wednesday</td>\n",
       "      <td>1.0</td>\n",
       "      <td>1</td>\n",
       "      <td>2.0</td>\n",
       "      <td>5</td>\n",
       "      <td>0</td>\n",
       "      <td>23</td>\n",
       "      <td>3.00 - 3.49</td>\n",
       "    </tr>\n",
       "    <tr>\n",
       "      <th>4</th>\n",
       "      <td>Karim</td>\n",
       "      <td>2/7/2022</td>\n",
       "      <td>Thursday</td>\n",
       "      <td>1.0</td>\n",
       "      <td>1</td>\n",
       "      <td>5.0</td>\n",
       "      <td>6</td>\n",
       "      <td>0</td>\n",
       "      <td>23</td>\n",
       "      <td>3.00 - 3.49</td>\n",
       "    </tr>\n",
       "    <tr>\n",
       "      <th>5</th>\n",
       "      <td>Karim</td>\n",
       "      <td>3/7/2022</td>\n",
       "      <td>Friday</td>\n",
       "      <td>1.0</td>\n",
       "      <td>1</td>\n",
       "      <td>5.0</td>\n",
       "      <td>7</td>\n",
       "      <td>1</td>\n",
       "      <td>23</td>\n",
       "      <td>3.00 - 3.49</td>\n",
       "    </tr>\n",
       "    <tr>\n",
       "      <th>6</th>\n",
       "      <td>Karim</td>\n",
       "      <td>4/7/2022</td>\n",
       "      <td>Saturday</td>\n",
       "      <td>1.0</td>\n",
       "      <td>1</td>\n",
       "      <td>6.0</td>\n",
       "      <td>7</td>\n",
       "      <td>1</td>\n",
       "      <td>23</td>\n",
       "      <td>3.00 - 3.49</td>\n",
       "    </tr>\n",
       "    <tr>\n",
       "      <th>7</th>\n",
       "      <td>Mariam</td>\n",
       "      <td>28/6/2022</td>\n",
       "      <td>Sunday</td>\n",
       "      <td>2.0</td>\n",
       "      <td>2</td>\n",
       "      <td>2.0</td>\n",
       "      <td>5</td>\n",
       "      <td>0</td>\n",
       "      <td>22</td>\n",
       "      <td>2.00 - 2.49</td>\n",
       "    </tr>\n",
       "    <tr>\n",
       "      <th>8</th>\n",
       "      <td>Mariam</td>\n",
       "      <td>29/6/2022</td>\n",
       "      <td>Monday</td>\n",
       "      <td>2.0</td>\n",
       "      <td>2</td>\n",
       "      <td>3.0</td>\n",
       "      <td>6</td>\n",
       "      <td>0</td>\n",
       "      <td>22</td>\n",
       "      <td>2.00 - 2.49</td>\n",
       "    </tr>\n",
       "    <tr>\n",
       "      <th>9</th>\n",
       "      <td>Mariam</td>\n",
       "      <td>30/6/2022</td>\n",
       "      <td>Tuesday</td>\n",
       "      <td>2.0</td>\n",
       "      <td>2</td>\n",
       "      <td>2.0</td>\n",
       "      <td>6</td>\n",
       "      <td>0</td>\n",
       "      <td>22</td>\n",
       "      <td>2.00 - 2.49</td>\n",
       "    </tr>\n",
       "  </tbody>\n",
       "</table>\n",
       "</div>"
      ],
      "text/plain": [
       "     Name       Date        Day  Marital Status  Your gender?  study hour  \\\n",
       "0   Karim  28/6/2022     Sunday             1.0             1         4.0   \n",
       "1   Karim  29/6/2022     Monday             1.0             1         3.0   \n",
       "2   Karim  30/6/2022    Tuesday             1.0             1         3.0   \n",
       "3   Karim   1/7/2022  Wednesday             1.0             1         2.0   \n",
       "4   Karim   2/7/2022   Thursday             1.0             1         5.0   \n",
       "5   Karim   3/7/2022     Friday             1.0             1         5.0   \n",
       "6   Karim   4/7/2022   Saturday             1.0             1         6.0   \n",
       "7  Mariam  28/6/2022     Sunday             2.0             2         2.0   \n",
       "8  Mariam  29/6/2022     Monday             2.0             2         3.0   \n",
       "9  Mariam  30/6/2022    Tuesday             2.0             2         2.0   \n",
       "\n",
       "   your sleep hour?  weekend  what is your age? what is your cgpa  \n",
       "0                 6        0                 23       3.00 - 3.49  \n",
       "1                 6        0                 23       3.00 - 3.49  \n",
       "2                 7        0                 23       3.00 - 3.49  \n",
       "3                 5        0                 23       3.00 - 3.49  \n",
       "4                 6        0                 23       3.00 - 3.49  \n",
       "5                 7        1                 23       3.00 - 3.49  \n",
       "6                 7        1                 23       3.00 - 3.49  \n",
       "7                 5        0                 22       2.00 - 2.49  \n",
       "8                 6        0                 22       2.00 - 2.49  \n",
       "9                 6        0                 22       2.00 - 2.49  "
      ]
     },
     "execution_count": 3,
     "metadata": {},
     "output_type": "execute_result"
    }
   ],
   "source": [
    "df.head(10)"
   ]
  },
  {
   "cell_type": "code",
   "execution_count": 4,
   "id": "b73ba89b",
   "metadata": {
    "execution": {
     "iopub.execute_input": "2022-07-02T02:22:30.666537Z",
     "iopub.status.busy": "2022-07-02T02:22:30.666123Z",
     "iopub.status.idle": "2022-07-02T02:22:30.694921Z",
     "shell.execute_reply": "2022-07-02T02:22:30.693733Z"
    },
    "papermill": {
     "duration": 0.04136,
     "end_time": "2022-07-02T02:22:30.697767",
     "exception": false,
     "start_time": "2022-07-02T02:22:30.656407",
     "status": "completed"
    },
    "tags": []
   },
   "outputs": [
    {
     "name": "stdout",
     "output_type": "stream",
     "text": [
      "<class 'pandas.core.frame.DataFrame'>\n",
      "RangeIndex: 63 entries, 0 to 62\n",
      "Data columns (total 10 columns):\n",
      " #   Column             Non-Null Count  Dtype  \n",
      "---  ------             --------------  -----  \n",
      " 0   Name               63 non-null     object \n",
      " 1   Date               63 non-null     object \n",
      " 2   Day                63 non-null     object \n",
      " 3   Marital Status     59 non-null     float64\n",
      " 4   Your gender?       63 non-null     int64  \n",
      " 5   study hour         62 non-null     float64\n",
      " 6   your sleep hour?   63 non-null     int64  \n",
      " 7   weekend            63 non-null     int64  \n",
      " 8   what is your age?  63 non-null     int64  \n",
      " 9   what is your cgpa  63 non-null     object \n",
      "dtypes: float64(2), int64(4), object(4)\n",
      "memory usage: 5.0+ KB\n"
     ]
    }
   ],
   "source": [
    "df.info()"
   ]
  },
  {
   "cell_type": "code",
   "execution_count": 5,
   "id": "5406db22",
   "metadata": {
    "execution": {
     "iopub.execute_input": "2022-07-02T02:22:30.717636Z",
     "iopub.status.busy": "2022-07-02T02:22:30.716490Z",
     "iopub.status.idle": "2022-07-02T02:22:30.726989Z",
     "shell.execute_reply": "2022-07-02T02:22:30.726078Z"
    },
    "papermill": {
     "duration": 0.022714,
     "end_time": "2022-07-02T02:22:30.729285",
     "exception": false,
     "start_time": "2022-07-02T02:22:30.706571",
     "status": "completed"
    },
    "tags": []
   },
   "outputs": [
    {
     "data": {
      "text/plain": [
       "Name                 0\n",
       "Date                 0\n",
       "Day                  0\n",
       "Marital Status       4\n",
       "Your gender?         0\n",
       "study hour           1\n",
       "your sleep hour?     0\n",
       "weekend              0\n",
       "what is your age?    0\n",
       "what is your cgpa    0\n",
       "dtype: int64"
      ]
     },
     "execution_count": 5,
     "metadata": {},
     "output_type": "execute_result"
    }
   ],
   "source": [
    "df.isnull().sum()"
   ]
  },
  {
   "cell_type": "code",
   "execution_count": 6,
   "id": "7ec41ee4",
   "metadata": {
    "execution": {
     "iopub.execute_input": "2022-07-02T02:22:30.749669Z",
     "iopub.status.busy": "2022-07-02T02:22:30.748871Z",
     "iopub.status.idle": "2022-07-02T02:22:30.757945Z",
     "shell.execute_reply": "2022-07-02T02:22:30.756881Z"
    },
    "papermill": {
     "duration": 0.021834,
     "end_time": "2022-07-02T02:22:30.760541",
     "exception": false,
     "start_time": "2022-07-02T02:22:30.738707",
     "status": "completed"
    },
    "tags": []
   },
   "outputs": [],
   "source": [
    "#Remove all empty and null values\n",
    "df = df.dropna()"
   ]
  },
  {
   "cell_type": "code",
   "execution_count": 7,
   "id": "6f565676",
   "metadata": {
    "execution": {
     "iopub.execute_input": "2022-07-02T02:22:30.780291Z",
     "iopub.status.busy": "2022-07-02T02:22:30.779556Z",
     "iopub.status.idle": "2022-07-02T02:22:30.789211Z",
     "shell.execute_reply": "2022-07-02T02:22:30.788049Z"
    },
    "papermill": {
     "duration": 0.022082,
     "end_time": "2022-07-02T02:22:30.791473",
     "exception": false,
     "start_time": "2022-07-02T02:22:30.769391",
     "status": "completed"
    },
    "tags": []
   },
   "outputs": [
    {
     "data": {
      "text/plain": [
       "Name                 0\n",
       "Date                 0\n",
       "Day                  0\n",
       "Marital Status       0\n",
       "Your gender?         0\n",
       "study hour           0\n",
       "your sleep hour?     0\n",
       "weekend              0\n",
       "what is your age?    0\n",
       "what is your cgpa    0\n",
       "dtype: int64"
      ]
     },
     "execution_count": 7,
     "metadata": {},
     "output_type": "execute_result"
    }
   ],
   "source": [
    "df.isnull().sum()"
   ]
  },
  {
   "cell_type": "code",
   "execution_count": 8,
   "id": "75cf3850",
   "metadata": {
    "execution": {
     "iopub.execute_input": "2022-07-02T02:22:30.811988Z",
     "iopub.status.busy": "2022-07-02T02:22:30.810993Z",
     "iopub.status.idle": "2022-07-02T02:22:30.817290Z",
     "shell.execute_reply": "2022-07-02T02:22:30.816502Z"
    },
    "papermill": {
     "duration": 0.018963,
     "end_time": "2022-07-02T02:22:30.819492",
     "exception": false,
     "start_time": "2022-07-02T02:22:30.800529",
     "status": "completed"
    },
    "tags": []
   },
   "outputs": [],
   "source": [
    "# Let's rename some columns\n",
    "df.rename(columns = {'Marital Status':'Marital_Status', 'Your gender?':'Gender', 'study hour':'Study_Hours', 'weekend':'Weekend', 'your sleep hour?':'Sleep_Hours', 'what is your age?':'Age', 'what is your cgpa':'CGPA'}, inplace = True)"
   ]
  },
  {
   "cell_type": "code",
   "execution_count": 9,
   "id": "6d7f5970",
   "metadata": {
    "execution": {
     "iopub.execute_input": "2022-07-02T02:22:30.839852Z",
     "iopub.status.busy": "2022-07-02T02:22:30.839184Z",
     "iopub.status.idle": "2022-07-02T02:22:30.846120Z",
     "shell.execute_reply": "2022-07-02T02:22:30.845158Z"
    },
    "papermill": {
     "duration": 0.019747,
     "end_time": "2022-07-02T02:22:30.848237",
     "exception": false,
     "start_time": "2022-07-02T02:22:30.828490",
     "status": "completed"
    },
    "tags": []
   },
   "outputs": [
    {
     "data": {
      "text/plain": [
       "Index(['Name', 'Date', 'Day', 'Marital_Status', 'Gender', 'Study_Hours',\n",
       "       'Sleep_Hours', 'Weekend', 'Age', 'CGPA'],\n",
       "      dtype='object')"
      ]
     },
     "execution_count": 9,
     "metadata": {},
     "output_type": "execute_result"
    }
   ],
   "source": [
    "#Renamed Columns\n",
    "df.columns"
   ]
  },
  {
   "cell_type": "code",
   "execution_count": 10,
   "id": "e177e5f5",
   "metadata": {
    "execution": {
     "iopub.execute_input": "2022-07-02T02:22:30.868629Z",
     "iopub.status.busy": "2022-07-02T02:22:30.867967Z",
     "iopub.status.idle": "2022-07-02T02:22:32.111126Z",
     "shell.execute_reply": "2022-07-02T02:22:32.109845Z"
    },
    "papermill": {
     "duration": 1.256152,
     "end_time": "2022-07-02T02:22:32.113435",
     "exception": false,
     "start_time": "2022-07-02T02:22:30.857283",
     "status": "completed"
    },
    "tags": []
   },
   "outputs": [
    {
     "data": {
      "text/plain": [
       "<AxesSubplot:ylabel='Marital_Status'>"
      ]
     },
     "execution_count": 10,
     "metadata": {},
     "output_type": "execute_result"
    },
    {
     "data": {
      "image/png": "[encoded data removed]",
      "text/plain": [
       "<Figure size 432x432 with 1 Axes>"
      ]
     },
     "metadata": {},
     "output_type": "display_data"
    }
   ],
   "source": [
    "import seaborn as sns\n",
    "import matplotlib.pyplot as plt\n",
    "\n",
    "df['Marital_Status'].value_counts().head(20).plot(kind = 'pie', figsize = (6,6))\n"
   ]
  },
  {
   "cell_type": "markdown",
   "id": "e0125539",
   "metadata": {
    "papermill": {
     "duration": 0.009348,
     "end_time": "2022-07-02T02:22:32.133167",
     "exception": false,
     "start_time": "2022-07-02T02:22:32.123819",
     "status": "completed"
    },
    "tags": []
   },
   "source": [
    "In the above pie chart, 1 depicts married and 2 depicts Unmarried or vice a versa because it's not clearly mentioned in the dataset description."
   ]
  },
  {
   "cell_type": "code",
   "execution_count": 11,
   "id": "c5f53190",
   "metadata": {
    "execution": {
     "iopub.execute_input": "2022-07-02T02:22:32.154683Z",
     "iopub.status.busy": "2022-07-02T02:22:32.154286Z",
     "iopub.status.idle": "2022-07-02T02:22:32.243318Z",
     "shell.execute_reply": "2022-07-02T02:22:32.242041Z"
    },
    "papermill": {
     "duration": 0.103687,
     "end_time": "2022-07-02T02:22:32.246566",
     "exception": false,
     "start_time": "2022-07-02T02:22:32.142879",
     "status": "completed"
    },
    "tags": []
   },
   "outputs": [
    {
     "data": {
      "text/plain": [
       "<AxesSubplot:ylabel='Gender'>"
      ]
     },
     "execution_count": 11,
     "metadata": {},
     "output_type": "execute_result"
    },
    {
     "data": {
      "image/png": "[encoded data removed]",
      "text/plain": [
       "<Figure size 432x432 with 1 Axes>"
      ]
     },
     "metadata": {},
     "output_type": "display_data"
    }
   ],
   "source": [
    "df['Gender'].value_counts().head(20).plot(kind = 'pie', figsize = (6,6))"
   ]
  },
  {
   "cell_type": "markdown",
   "id": "28c3d568",
   "metadata": {
    "papermill": {
     "duration": 0.009683,
     "end_time": "2022-07-02T02:22:32.266260",
     "exception": false,
     "start_time": "2022-07-02T02:22:32.256577",
     "status": "completed"
    },
    "tags": []
   },
   "source": [
    "Your Gender - Depicts clearly that one of the 2 genders has more percentage in the class."
   ]
  },
  {
   "cell_type": "code",
   "execution_count": 12,
   "id": "454522db",
   "metadata": {
    "execution": {
     "iopub.execute_input": "2022-07-02T02:22:32.288636Z",
     "iopub.status.busy": "2022-07-02T02:22:32.287874Z",
     "iopub.status.idle": "2022-07-02T02:22:32.414268Z",
     "shell.execute_reply": "2022-07-02T02:22:32.412629Z"
    },
    "papermill": {
     "duration": 0.141988,
     "end_time": "2022-07-02T02:22:32.418364",
     "exception": false,
     "start_time": "2022-07-02T02:22:32.276376",
     "status": "completed"
    },
    "tags": []
   },
   "outputs": [
    {
     "data": {
      "text/plain": [
       "<AxesSubplot:ylabel='Study_Hours'>"
      ]
     },
     "execution_count": 12,
     "metadata": {},
     "output_type": "execute_result"
    },
    {
     "data": {
      "image/png": "[encoded data removed]",
      "text/plain": [
       "<Figure size 432x432 with 1 Axes>"
      ]
     },
     "metadata": {},
     "output_type": "display_data"
    }
   ],
   "source": [
    "df['Study_Hours'].value_counts().head(20).plot(kind = 'pie', figsize = (6,6))"
   ]
  },
  {
   "cell_type": "markdown",
   "id": "185241ab",
   "metadata": {
    "papermill": {
     "duration": 0.018874,
     "end_time": "2022-07-02T02:22:32.456746",
     "exception": false,
     "start_time": "2022-07-02T02:22:32.437872",
     "status": "completed"
    },
    "tags": []
   },
   "source": [
    "Maximum number of students studied for 2 - 3 hours."
   ]
  },
  {
   "cell_type": "code",
   "execution_count": 13,
   "id": "5d788c39",
   "metadata": {
    "execution": {
     "iopub.execute_input": "2022-07-02T02:22:32.495458Z",
     "iopub.status.busy": "2022-07-02T02:22:32.493295Z",
     "iopub.status.idle": "2022-07-02T02:22:32.603924Z",
     "shell.execute_reply": "2022-07-02T02:22:32.602696Z"
    },
    "papermill": {
     "duration": 0.131358,
     "end_time": "2022-07-02T02:22:32.607195",
     "exception": false,
     "start_time": "2022-07-02T02:22:32.475837",
     "status": "completed"
    },
    "tags": []
   },
   "outputs": [
    {
     "data": {
      "text/plain": [
       "<AxesSubplot:ylabel='Sleep_Hours'>"
      ]
     },
     "execution_count": 13,
     "metadata": {},
     "output_type": "execute_result"
    },
    {
     "data": {
      "image/png": "[encoded data removed]",
      "text/plain": [
       "<Figure size 432x432 with 1 Axes>"
      ]
     },
     "metadata": {},
     "output_type": "display_data"
    }
   ],
   "source": [
    "df['Sleep_Hours'].value_counts().head(20).plot(kind = 'pie', figsize = (6,6))"
   ]
  },
  {
   "cell_type": "markdown",
   "id": "25d56dc7",
   "metadata": {
    "papermill": {
     "duration": 0.019361,
     "end_time": "2022-07-02T02:22:32.646741",
     "exception": false,
     "start_time": "2022-07-02T02:22:32.627380",
     "status": "completed"
    },
    "tags": []
   },
   "source": [
    "While maximum students slept for about 6 - 7 hours. Only least number of students were able to get atleast 8 hours of sleep."
   ]
  },
  {
   "cell_type": "code",
   "execution_count": 14,
   "id": "374c8f98",
   "metadata": {
    "execution": {
     "iopub.execute_input": "2022-07-02T02:22:32.687611Z",
     "iopub.status.busy": "2022-07-02T02:22:32.687194Z",
     "iopub.status.idle": "2022-07-02T02:22:32.787205Z",
     "shell.execute_reply": "2022-07-02T02:22:32.785897Z"
    },
    "papermill": {
     "duration": 0.124126,
     "end_time": "2022-07-02T02:22:32.790798",
     "exception": false,
     "start_time": "2022-07-02T02:22:32.666672",
     "status": "completed"
    },
    "tags": []
   },
   "outputs": [
    {
     "data": {
      "text/plain": [
       "<AxesSubplot:ylabel='Weekend'>"
      ]
     },
     "execution_count": 14,
     "metadata": {},
     "output_type": "execute_result"
    },
    {
     "data": {
      "image/png": "[encoded data removed]",
      "text/plain": [
       "<Figure size 432x432 with 1 Axes>"
      ]
     },
     "metadata": {},
     "output_type": "display_data"
    }
   ],
   "source": [
    "df['Weekend'].value_counts().head(20).plot(kind = 'pie', figsize = (6,6))"
   ]
  },
  {
   "cell_type": "markdown",
   "id": "b57bcec6",
   "metadata": {
    "papermill": {
     "duration": 0.020397,
     "end_time": "2022-07-02T02:22:32.831712",
     "exception": false,
     "start_time": "2022-07-02T02:22:32.811315",
     "status": "completed"
    },
    "tags": []
   },
   "source": [
    "Was it a weekend in the place of the student? Well the stats show that it was a weekend in the place of student."
   ]
  },
  {
   "cell_type": "code",
   "execution_count": 15,
   "id": "36c38ef4",
   "metadata": {
    "execution": {
     "iopub.execute_input": "2022-07-02T02:22:32.875281Z",
     "iopub.status.busy": "2022-07-02T02:22:32.874429Z",
     "iopub.status.idle": "2022-07-02T02:22:32.976579Z",
     "shell.execute_reply": "2022-07-02T02:22:32.975369Z"
    },
    "papermill": {
     "duration": 0.127959,
     "end_time": "2022-07-02T02:22:32.979981",
     "exception": false,
     "start_time": "2022-07-02T02:22:32.852022",
     "status": "completed"
    },
    "tags": []
   },
   "outputs": [
    {
     "data": {
      "text/plain": [
       "<AxesSubplot:ylabel='Age'>"
      ]
     },
     "execution_count": 15,
     "metadata": {},
     "output_type": "execute_result"
    },
    {
     "data": {
      "image/png": "[encoded data removed]",
      "text/plain": [
       "<Figure size 432x432 with 1 Axes>"
      ]
     },
     "metadata": {},
     "output_type": "display_data"
    }
   ],
   "source": [
    "df['Age'].value_counts().head(20).plot(kind = 'pie', figsize = (6,6))"
   ]
  },
  {
   "cell_type": "markdown",
   "id": "944a76a0",
   "metadata": {
    "papermill": {
     "duration": 0.020346,
     "end_time": "2022-07-02T02:22:33.021528",
     "exception": false,
     "start_time": "2022-07-02T02:22:33.001182",
     "status": "completed"
    },
    "tags": []
   },
   "source": [
    "The pie chart shows that majority students in the class were of age 23, while those of ages 21, 22 and 24 were almost the same. "
   ]
  },
  {
   "cell_type": "code",
   "execution_count": 16,
   "id": "e0327e82",
   "metadata": {
    "execution": {
     "iopub.execute_input": "2022-07-02T02:22:33.063329Z",
     "iopub.status.busy": "2022-07-02T02:22:33.062942Z",
     "iopub.status.idle": "2022-07-02T02:22:33.168324Z",
     "shell.execute_reply": "2022-07-02T02:22:33.166857Z"
    },
    "papermill": {
     "duration": 0.137177,
     "end_time": "2022-07-02T02:22:33.179721",
     "exception": false,
     "start_time": "2022-07-02T02:22:33.042544",
     "status": "completed"
    },
    "tags": []
   },
   "outputs": [
    {
     "data": {
      "text/plain": [
       "<AxesSubplot:ylabel='CGPA'>"
      ]
     },
     "execution_count": 16,
     "metadata": {},
     "output_type": "execute_result"
    },
    {
     "data": {
      "image/png": "[encoded data removed]",
      "text/plain": [
       "<Figure size 432x432 with 1 Axes>"
      ]
     },
     "metadata": {},
     "output_type": "display_data"
    }
   ],
   "source": [
    "df['CGPA'].value_counts().head(20).plot(kind = 'pie', figsize = (6,6))"
   ]
  },
  {
   "cell_type": "markdown",
   "id": "1edf6cbe",
   "metadata": {
    "papermill": {
     "duration": 0.02142,
     "end_time": "2022-07-02T02:22:33.223144",
     "exception": false,
     "start_time": "2022-07-02T02:22:33.201724",
     "status": "completed"
    },
    "tags": []
   },
   "source": [
    "From the above pie chart we can infer that the class compised of all kinds of students.\n",
    "\n",
    "Overperforming - CGPA(3.50 - 4.00)\n",
    "\n",
    "Medium Performing - CGPA(3.00 - 3.49)\n",
    "\n",
    "Underperforming - CGPA(2.00 - 2.49)"
   ]
  },
  {
   "cell_type": "code",
   "execution_count": 17,
   "id": "af0247c1",
   "metadata": {
    "execution": {
     "iopub.execute_input": "2022-07-02T02:22:33.260603Z",
     "iopub.status.busy": "2022-07-02T02:22:33.259638Z",
     "iopub.status.idle": "2022-07-02T02:22:33.487328Z",
     "shell.execute_reply": "2022-07-02T02:22:33.486505Z"
    },
    "papermill": {
     "duration": 0.244615,
     "end_time": "2022-07-02T02:22:33.489611",
     "exception": false,
     "start_time": "2022-07-02T02:22:33.244996",
     "status": "completed"
    },
    "tags": []
   },
   "outputs": [
    {
     "data": {
      "text/plain": [
       "<matplotlib.legend.Legend at 0x7f3a137b1fd0>"
      ]
     },
     "execution_count": 17,
     "metadata": {},
     "output_type": "execute_result"
    },
    {
     "data": {
      "image/png": "[encoded data removed]",
      "text/plain": [
       "<Figure size 432x288 with 1 Axes>"
      ]
     },
     "metadata": {
      "needs_background": "light"
     },
     "output_type": "display_data"
    }
   ],
   "source": [
    "df.Marital_Status.plot(kind = 'hist', color = 'olive')\n",
    "plt.xlabel('1 - Married , 2- Unmarried')\n",
    "plt.legend()"
   ]
  },
  {
   "cell_type": "code",
   "execution_count": 18,
   "id": "960fd62c",
   "metadata": {
    "execution": {
     "iopub.execute_input": "2022-07-02T02:22:33.516084Z",
     "iopub.status.busy": "2022-07-02T02:22:33.515716Z",
     "iopub.status.idle": "2022-07-02T02:22:33.724805Z",
     "shell.execute_reply": "2022-07-02T02:22:33.723525Z"
    },
    "papermill": {
     "duration": 0.22544,
     "end_time": "2022-07-02T02:22:33.727542",
     "exception": false,
     "start_time": "2022-07-02T02:22:33.502102",
     "status": "completed"
    },
    "tags": []
   },
   "outputs": [
    {
     "data": {
      "image/png": "[encoded data removed]",
      "text/plain": [
       "<Figure size 648x576 with 1 Axes>"
      ]
     },
     "metadata": {
      "needs_background": "light"
     },
     "output_type": "display_data"
    }
   ],
   "source": [
    "df.plot(x=\"CGPA\", y=\"Age\", kind=\"line\", figsize=(9, 8), color = 'lightcoral')\n",
    "plt.show()"
   ]
  },
  {
   "cell_type": "markdown",
   "id": "9eca2fb3",
   "metadata": {
    "papermill": {
     "duration": 0.012358,
     "end_time": "2022-07-02T02:22:33.752657",
     "exception": false,
     "start_time": "2022-07-02T02:22:33.740299",
     "status": "completed"
    },
    "tags": []
   },
   "source": [
    "While there seems no way to draw conclusions between age and CGPA."
   ]
  },
  {
   "cell_type": "code",
   "execution_count": 19,
   "id": "7e865e13",
   "metadata": {
    "execution": {
     "iopub.execute_input": "2022-07-02T02:22:33.779589Z",
     "iopub.status.busy": "2022-07-02T02:22:33.779196Z",
     "iopub.status.idle": "2022-07-02T02:22:34.007047Z",
     "shell.execute_reply": "2022-07-02T02:22:34.006132Z"
    },
    "papermill": {
     "duration": 0.24422,
     "end_time": "2022-07-02T02:22:34.009558",
     "exception": false,
     "start_time": "2022-07-02T02:22:33.765338",
     "status": "completed"
    },
    "tags": []
   },
   "outputs": [
    {
     "data": {
      "image/png": "[encoded data removed]",
      "text/plain": [
       "<Figure size 648x576 with 1 Axes>"
      ]
     },
     "metadata": {
      "needs_background": "light"
     },
     "output_type": "display_data"
    }
   ],
   "source": [
    "df.plot(x=\"CGPA\", y=\"Study_Hours\", kind=\"hist\", figsize=(9, 8), color = 'lightcoral')\n",
    "plt.show()"
   ]
  },
  {
   "cell_type": "markdown",
   "id": "e5572e60",
   "metadata": {
    "papermill": {
     "duration": 0.012479,
     "end_time": "2022-07-02T02:22:34.034838",
     "exception": false,
     "start_time": "2022-07-02T02:22:34.022359",
     "status": "completed"
    },
    "tags": []
   },
   "source": [
    "Maximum people studied for about 2-3 hours."
   ]
  },
  {
   "cell_type": "code",
   "execution_count": 20,
   "id": "996587f4",
   "metadata": {
    "execution": {
     "iopub.execute_input": "2022-07-02T02:22:34.063498Z",
     "iopub.status.busy": "2022-07-02T02:22:34.062721Z",
     "iopub.status.idle": "2022-07-02T02:22:34.292883Z",
     "shell.execute_reply": "2022-07-02T02:22:34.292013Z"
    },
    "papermill": {
     "duration": 0.247192,
     "end_time": "2022-07-02T02:22:34.295011",
     "exception": false,
     "start_time": "2022-07-02T02:22:34.047819",
     "status": "completed"
    },
    "tags": []
   },
   "outputs": [
    {
     "data": {
      "text/plain": [
       "Text(0.5, 0, 'Study Hours')"
      ]
     },
     "execution_count": 20,
     "metadata": {},
     "output_type": "execute_result"
    },
    {
     "data": {
      "image/png": "[encoded data removed]",
      "text/plain": [
       "<Figure size 648x576 with 1 Axes>"
      ]
     },
     "metadata": {
      "needs_background": "light"
     },
     "output_type": "display_data"
    }
   ],
   "source": [
    "#Let's check which gender studied the max hours\n",
    "df.plot(x=\"Gender\", y=\"Study_Hours\", kind=\"hist\", figsize=(9, 8), color = 'lightcoral')\n",
    "plt.xlabel('Study Hours')"
   ]
  },
  {
   "cell_type": "markdown",
   "id": "52cda257",
   "metadata": {
    "papermill": {
     "duration": 0.012953,
     "end_time": "2022-07-02T02:22:34.321174",
     "exception": false,
     "start_time": "2022-07-02T02:22:34.308221",
     "status": "completed"
    },
    "tags": []
   },
   "source": [
    "Above graph shows that gender 2 studied more than gender 1."
   ]
  },
  {
   "cell_type": "code",
   "execution_count": 21,
   "id": "2a9acb1e",
   "metadata": {
    "execution": {
     "iopub.execute_input": "2022-07-02T02:22:34.349668Z",
     "iopub.status.busy": "2022-07-02T02:22:34.348988Z",
     "iopub.status.idle": "2022-07-02T02:22:34.580356Z",
     "shell.execute_reply": "2022-07-02T02:22:34.578986Z"
    },
    "papermill": {
     "duration": 0.248624,
     "end_time": "2022-07-02T02:22:34.583031",
     "exception": false,
     "start_time": "2022-07-02T02:22:34.334407",
     "status": "completed"
    },
    "tags": []
   },
   "outputs": [
    {
     "data": {
      "text/plain": [
       "Text(0.5, 0, 'Gender')"
      ]
     },
     "execution_count": 21,
     "metadata": {},
     "output_type": "execute_result"
    },
    {
     "data": {
      "image/png": "[encoded data removed]",
      "text/plain": [
       "<Figure size 648x576 with 1 Axes>"
      ]
     },
     "metadata": {
      "needs_background": "light"
     },
     "output_type": "display_data"
    }
   ],
   "source": [
    "#Let's check which gender was married\n",
    "df.plot(x=\"Gender\", y=\"Marital_Status\", kind=\"hist\", figsize=(9, 8), color = 'lightcoral')\n",
    "plt.xlabel('Gender')"
   ]
  },
  {
   "cell_type": "markdown",
   "id": "086094e6",
   "metadata": {
    "papermill": {
     "duration": 0.013506,
     "end_time": "2022-07-02T02:22:34.610368",
     "exception": false,
     "start_time": "2022-07-02T02:22:34.596862",
     "status": "completed"
    },
    "tags": []
   },
   "source": [
    "Majority students of Gender 1 were Married."
   ]
  },
  {
   "cell_type": "markdown",
   "id": "71d74c35",
   "metadata": {
    "papermill": {
     "duration": 0.01384,
     "end_time": "2022-07-02T02:22:34.638059",
     "exception": false,
     "start_time": "2022-07-02T02:22:34.624219",
     "status": "completed"
    },
    "tags": []
   },
   "source": [
    "Thank you :)\n",
    "\n",
    "Feel free to drop in any feedback or resources in the comments."
   ]
  }
 ],
 "metadata": {
  "kernelspec": {
   "display_name": "Python 3",
   "language": "python",
   "name": "python3"
  },
  "language_info": {
   "codemirror_mode": {
    "name": "ipython",
    "version": 3
   },
   "file_extension": ".py",
   "mimetype": "text/x-python",
   "name": "python",
   "nbconvert_exporter": "python",
   "pygments_lexer": "ipython3",
   "version": "3.7.12"
  },
  "papermill": {
   "default_parameters": {},
   "duration": 14.799229,
   "end_time": "2022-07-02T02:22:35.373751",
   "environment_variables": {},
   "exception": null,
   "input_path": "__notebook__.ipynb",
   "output_path": "__notebook__.ipynb",
   "parameters": {},
   "start_time": "2022-07-02T02:22:20.574522",
   "version": "2.3.4"
  }
 },
 "nbformat": 4,
 "nbformat_minor": 5
}
